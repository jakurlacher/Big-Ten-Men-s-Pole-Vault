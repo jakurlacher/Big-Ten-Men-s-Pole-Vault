{
 "cells": [
  {
   "cell_type": "markdown",
   "id": "1bdb37eb",
   "metadata": {},
   "source": [
    "# Let's calculate some championship data."
   ]
  },
  {
   "cell_type": "markdown",
   "id": "4ff12341",
   "metadata": {},
   "source": [
    "## Given what we have, I think it'll be interesting to take a look at how year in school, seed number in the outdoor lists, and team name are correlated with winning the Big Ten Championship."
   ]
  },
  {
   "cell_type": "markdown",
   "id": "126da510",
   "metadata": {},
   "source": [
    "### Let's get started by importing our libraries and opening the csv file."
   ]
  },
  {
   "cell_type": "code",
   "execution_count": 1,
   "id": "3080ef59",
   "metadata": {},
   "outputs": [],
   "source": [
    "import pandas as pd\n",
    "\n",
    "# Initialize empty dictionaries to store the DataFrames\n",
    "dataframes_lists = {}\n",
    "dataframes_champs = {}\n",
    "\n",
    "# Define the range of years\n",
    "years = range(2010, 2025)\n",
    "\n",
    "# Read CSV files into dataframes_lists\n",
    "for year in years:\n",
    "    if year != 2020:\n",
    "        filename = f\"dataframes_lists_{year}.csv\"\n",
    "        dataframes_lists[year] = pd.read_csv(filename)\n",
    "\n",
    "# Read CSV files into dataframes_champs\n",
    "for year in years:\n",
    "    if year != 2020:\n",
    "        filename = f\"dataframes_champs_{year}.csv\"\n",
    "        dataframes_champs[year] = pd.read_csv(filename)\n"
   ]
  },
  {
   "cell_type": "markdown",
   "id": "ba970a19",
   "metadata": {},
   "source": [
    "### Let's change the year column to numerical data as we did in improvenshow.py "
   ]
  },
  {
   "cell_type": "code",
   "execution_count": 2,
   "id": "09776333",
   "metadata": {},
   "outputs": [],
   "source": [
    "\n",
    "def convert_year(value):\n",
    "    value = str(value)\n",
    "    if '1' in value:\n",
    "        return 1\n",
    "    elif '2' in value:\n",
    "        return 2\n",
    "    elif '3' in value:\n",
    "        return 3\n",
    "    else:\n",
    "        return 4\n",
    "\n",
    "# Iterate through each DataFrame in dataframes_lists and apply the conversion\n",
    "for year, df in dataframes_lists.items():\n",
    "    dataframes_lists[year]['Year'] = df['Year'].apply(convert_year)\n",
    "\n",
    "# Repeat the process for dataframes_champs\n",
    "for year, df in dataframes_champs.items():\n",
    "    dataframes_champs[year]['Year'] = df['Year'].apply(convert_year)\n",
    "\n"
   ]
  },
  {
   "cell_type": "markdown",
   "id": "4d38d0d2",
   "metadata": {},
   "source": [
    "### Now let's calculate the chance of winning the championship given year in school."
   ]
  },
  {
   "cell_type": "code",
   "execution_count": 14,
   "id": "b3395a22",
   "metadata": {},
   "outputs": [
    {
     "name": "stdout",
     "output_type": "stream",
     "text": [
      "Year 4: 35.71% of championships won, 5 championships won\n",
      "Year 3: 35.71% of championships won, 5 championships won\n",
      "Year 2: 14.29% of championships won, 2 championships won\n",
      "Year 1: 14.29% of championships won, 2 championships won\n"
     ]
    }
   ],
   "source": [
    "\n",
    "# Initialize a dictionary to count championships won by each year\n",
    "championships_by_year = {}\n",
    "\n",
    "# Loop through the years in dataframes_champs\n",
    "for year, champs_df in dataframes_champs.items():\n",
    "    # Get the champion's year from dataframes_lists\n",
    "    # Assuming the champion's year is first row, second column\n",
    "    champion_year = champs_df.iloc[0,1]\n",
    "    # Count the championship for this year\n",
    "    if champion_year in championships_by_year:\n",
    "        championships_by_year[champion_year] += 1\n",
    "    else:\n",
    "        championships_by_year[champion_year] = 1\n",
    "        \n",
    "# Calculate the total number of championships\n",
    "total_championships = sum(championships_by_year.values())\n",
    "\n",
    "# Calculate and print the chance of winning for each year\n",
    "#Sort by descending year \n",
    "championships_by_year = {year: championships for year, championships in sorted(championships_by_year.items(), key=lambda x: x[0], reverse=True)}\n",
    "for year, count in championships_by_year.items():\n",
    "    chance_of_winning = (count / total_championships) * 100\n",
    "    print(f\"Year {year}: {chance_of_winning:.2f}% of championships won, {count} championships won\")\n",
    "\n"
   ]
  },
  {
   "cell_type": "markdown",
   "id": "ab6af057",
   "metadata": {},
   "source": [
    "### Pretty even distribution, with upper classmen having a slight edge over their younger competitors."
   ]
  },
  {
   "cell_type": "markdown",
   "id": "fabb4557",
   "metadata": {},
   "source": [
    "### Now let's calculate chance of winning given seed number in the outdoor lists. "
   ]
  },
  {
   "cell_type": "code",
   "execution_count": 16,
   "id": "7ca1cb03",
   "metadata": {},
   "outputs": [
    {
     "name": "stdout",
     "output_type": "stream",
     "text": [
      "Seed 1: 35.71% chance of winning, 5 championships won\n",
      "Seed 2: 35.71% chance of winning, 5 championships won\n",
      "Seed 3: 14.29% chance of winning, 2 championships won\n",
      "Seed 5: 7.14% chance of winning, 1 championships won\n",
      "Seed 11: 7.14% chance of winning, 1 championships won\n"
     ]
    }
   ],
   "source": [
    "\n",
    "# Initialize a dictionary to count championships won by each seed\n",
    "championships_by_seed = {}\n",
    "\n",
    "# Loop through the years in dataframes_champs\n",
    "for year, champs_df in dataframes_champs.items():\n",
    "    # Assuming the champion's name is in the first row, first column of champs_df\n",
    "    champion_name = champs_df.iloc[0, 0]\n",
    "    list_df = dataframes_lists[year]\n",
    "    # Find the row in list_df where the name matches the champion's name\n",
    "    champion_row = list_df[list_df.iloc[:, 0] == champion_name]\n",
    "    if not champion_row.empty:\n",
    "        # Assuming the athlete's seed is the index + 1 (since DataFrame indices start at 0)\n",
    "        champion_seed = champion_row.index[0] + 1 \n",
    "        # Count the championship for this seed\n",
    "        if champion_seed in championships_by_seed:\n",
    "            championships_by_seed[champion_seed] += 1\n",
    "        else:\n",
    "            championships_by_seed[champion_seed] = 1\n",
    "\n",
    "# Calculate the total number of championships\n",
    "total_championships = sum(championships_by_seed.values())\n",
    "championships_by_seed = {seed: championships for seed, championships in sorted(championships_by_seed.items(), key=lambda x: x[0], reverse=False)}\n",
    "# Calculate and print the chance of winning for each seed\n",
    "for seed, count in championships_by_seed.items():\n",
    "    chance_of_winning = (count / total_championships) * 100\n",
    "    print(f\"Seed {seed}: {chance_of_winning:.2f}% chance of winning, {count} championships won\")\n"
   ]
  },
  {
   "cell_type": "markdown",
   "id": "139cae44",
   "metadata": {},
   "source": [
    "### Interesting that the 1 seed and the 2 seed have the same number of championships won. \n",
    "### Also interesting that an 11 seed won the championship one time. Let's take a look at that championship."
   ]
  },
  {
   "cell_type": "code",
   "execution_count": 5,
   "id": "8398e47f",
   "metadata": {},
   "outputs": [
    {
     "name": "stdout",
     "output_type": "stream",
     "text": [
      "             Athlete  Year           Team   Mark\n",
      "0      Cody Marshall     1      Ohio State  5.05\n",
      "1      Chris  Thoman     4          Purdue  4.95\n",
      "2    Austin  DeWildt     2        Michigan  4.95\n",
      "3       Matthew Bane     1        Illinois  4.95\n",
      "4     Derik Peterman     1  Michigan State  4.95\n",
      "5      Zack Saunders     2          Purdue  4.95\n",
      "6       Ben Peterson     4       Minnesota  4.95\n",
      "7      Jack Greenlee     2        Michigan  4.95\n",
      "8     Mitch Erickson     1          Purdue  4.95\n",
      "9       Jack Szmanda     2       Minnesota  4.80\n",
      "10        Cody Klein     1        Illinois  4.80\n",
      "11        Josh Hodur     2        Illinois  4.80\n",
      "12      Sam Retzloff     1         Indiana  4.80\n",
      "13     Derek Messmer     3         Indiana  4.80\n",
      "14       James Nixon     3  Michigan State  0.00\n",
      "15       Codi Mattix     2  Michigan State  0.00\n",
      "16     Wes Kavelaris     3       Wisconsin  0.00\n",
      "17      Japheth Cato     1       Wisconsin  0.00\n",
      "18  MIckey DeFilippo     3       Wisconsin  0.00\n",
      "19      Alex Baldwin     3        Illinois  0.00\n",
      "20      Taylor Voice     2        Michigan  0.00\n",
      "21      Brock Spandl     4       Minnesota  0.00\n"
     ]
    }
   ],
   "source": [
    "print(dataframes_champs[2011])"
   ]
  },
  {
   "cell_type": "markdown",
   "id": "e3b0f883",
   "metadata": {},
   "source": [
    "### 5.05 wins the Big Ten Championship?? And so many no heights. "
   ]
  },
  {
   "cell_type": "markdown",
   "id": "fab7888d",
   "metadata": {},
   "source": [
    "### Ah, I know why. The meet was hosted in Iowa. "
   ]
  },
  {
   "cell_type": "markdown",
   "id": "b4495a7a",
   "metadata": {},
   "source": [
    "### Let's look at the teams that have the most championships."
   ]
  },
  {
   "cell_type": "code",
   "execution_count": 17,
   "id": "4d762f5c",
   "metadata": {},
   "outputs": [
    {
     "name": "stdout",
     "output_type": "stream",
     "text": [
      "Team Minnesota: 28.57% chance of winning, 4 championships won\n",
      "Team Ohio State: 7.14% chance of winning, 1 championships won\n",
      "Team Michigan: 7.14% chance of winning, 1 championships won\n",
      "Team Indiana: 28.57% chance of winning, 4 championships won\n",
      "Team Wisconsin: 7.14% chance of winning, 1 championships won\n",
      "Team Nebraska: 7.14% chance of winning, 1 championships won\n",
      "Team Michigan State: 14.29% chance of winning, 2 championships won\n"
     ]
    }
   ],
   "source": [
    "# Initialize a dictionary to count championships won by each team\n",
    "championships_by_team = {}\n",
    "\n",
    "# Iterate through each year's DataFrame to count championships by team\n",
    "for year, df in dataframes_champs.items():\n",
    "    # Assuming the champion team's name is in the first row, first column\n",
    "    champion_team = df.iloc[0, 2]\n",
    "    if champion_team in championships_by_team:\n",
    "        championships_by_team[champion_team] += 1\n",
    "    else:\n",
    "        championships_by_team[champion_team] = 1\n",
    "\n",
    "# Calculate the total number of championships\n",
    "total_championships = sum(championships_by_team.values())\n",
    "\n",
    "# Calculate and print the chance of winning for each team\n",
    "for team, count in championships_by_team.items():\n",
    "    chance_of_winning = (count / total_championships) * 100\n",
    "    print(f\"Team {team}: {chance_of_winning:.2f}% chance of winning, {count} championships won\")\n"
   ]
  },
  {
   "cell_type": "markdown",
   "id": "9e6fb1d7",
   "metadata": {},
   "source": [
    "### And so Minnesota and Indiana are the winningest teams in recent Big Ten men's pole vault history. "
   ]
  },
  {
   "cell_type": "markdown",
   "id": "1a825b46",
   "metadata": {},
   "source": [
    "### Let's export our data to csv files. "
   ]
  },
  {
   "cell_type": "code",
   "execution_count": 18,
   "id": "2c3573db",
   "metadata": {},
   "outputs": [],
   "source": [
    "\n",
    "# Convert the championships_by_team dictionary to a DataFrame\n",
    "df_teams_championships = pd.DataFrame(list(championships_by_team.items()), columns=['Team', 'Championships Won'])\n",
    "\n",
    "# Export the DataFrame to a CSV file\n",
    "df_teams_championships.to_csv('teams_championships_won.csv', index=False)\n",
    "\n",
    "# Convert the championships_by_year dictionary to a DataFrame\n",
    "df_championships_by_year = pd.DataFrame(list(championships_by_year.items()), columns=['Year', 'Championships Won'])\n",
    "\n",
    "# Export the DataFrame to a CSV file\n",
    "df_championships_by_year.to_csv('championships_by_year.csv', index=False)\n",
    "\n",
    "# Convert the championships_by_seed dictionary to a DataFrame\n",
    "df_championships_by_seed = pd.DataFrame(list(championships_by_seed.items()), columns=['Seed', 'Championships Won'])\n",
    "\n",
    "# Export the DataFrame to a CSV file\n",
    "df_championships_by_seed.to_csv('championships_by_seed.csv', index=False)"
   ]
  },
  {
   "cell_type": "code",
   "execution_count": null,
   "id": "81add38a",
   "metadata": {},
   "outputs": [],
   "source": []
  }
 ],
 "metadata": {
  "kernelspec": {
   "display_name": "Python 3 (ipykernel)",
   "language": "python",
   "name": "python3"
  },
  "language_info": {
   "codemirror_mode": {
    "name": "ipython",
    "version": 3
   },
   "file_extension": ".py",
   "mimetype": "text/x-python",
   "name": "python",
   "nbconvert_exporter": "python",
   "pygments_lexer": "ipython3",
   "version": "3.9.13"
  }
 },
 "nbformat": 4,
 "nbformat_minor": 5
}
